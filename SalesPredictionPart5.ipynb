{
  "nbformat": 4,
  "nbformat_minor": 0,
  "metadata": {
    "colab": {
      "name": "SalesPredictionPart5.ipynb",
      "provenance": [],
      "authorship_tag": "ABX9TyPpNvCCYV52adcjqfYHXYwk",
      "include_colab_link": true
    },
    "kernelspec": {
      "name": "python3",
      "display_name": "Python 3"
    },
    "language_info": {
      "name": "python"
    }
  },
  "cells": [
    {
      "cell_type": "markdown",
      "metadata": {
        "id": "view-in-github",
        "colab_type": "text"
      },
      "source": [
        "<a href=\"https://colab.research.google.com/github/TanChen168/sales-predictions/blob/main/SalesPredictionPart5.ipynb\" target=\"_parent\"><img src=\"https://colab.research.google.com/assets/colab-badge.svg\" alt=\"Open In Colab\"/></a>"
      ]
    },
    {
      "cell_type": "code",
      "metadata": {
        "id": "eb5ePV8euSyq"
      },
      "source": [
        "# Initialize dataframe and clean up\n",
        "\n",
        "import matplotlib.pyplot as plt\n",
        "import seaborn as sns\n",
        "import pandas as pd\n",
        "import numpy as np\n",
        "df = pd.read_csv('/content/sample_data/sales_predictions.csv')\n",
        "\n",
        "# df['Item_Weight'].fillna(0, inplace = True)\n",
        "# df['Outlet_Size'].fillna(\"NA\", inplace = True)\n",
        "\n",
        "df['Item_Fat_Content'] = df['Item_Fat_Content'].replace({'low fat':'Low Fat', 'LF':'Low Fat', 'reg':'Regular'})\n"
      ],
      "execution_count": 70,
      "outputs": []
    },
    {
      "cell_type": "code",
      "source": [
        "# The target we are trying to predict\n",
        "y = df['Item_Outlet_Sales']\n",
        "# The features we will use to make the prediction\n",
        "X = df.drop(columns = ['Item_Identifier', 'Outlet_Identifier', 'Outlet_Establishment_Year', 'Outlet_Location_Type', 'Item_Outlet_Sales'])\n",
        "\n",
        "# Import the TTS from sklearn\n",
        "from sklearn.model_selection import train_test_split\n",
        "# Train test split \n",
        "X_train, X_test, y_train, y_test = train_test_split(X, y, random_state=42)"
      ],
      "metadata": {
        "id": "ZmtQ689zleJ4"
      },
      "execution_count": 74,
      "outputs": []
    },
    {
      "cell_type": "code",
      "source": [
        "# Imports\n",
        "from sklearn.pipeline import make_pipeline\n",
        "from sklearn.compose import make_column_selector, make_column_transformer\n",
        "from sklearn.impute import SimpleImputer\n",
        "from sklearn.preprocessing import OneHotEncoder\n",
        "from sklearn.preprocessing import StandardScaler\n",
        "from math import remainder\n",
        "\n",
        "#instantiate preprocessing objects\n",
        "median_imputer = SimpleImputer(strategy = 'median')\n",
        "freq_imputer = SimpleImputer(strategy = 'most_frequent')\n",
        "scaler = StandardScaler()\n",
        "ohe_encoder = OneHotEncoder(sparse=False, handle_unknown='ignore')\n",
        "\n",
        "#make categorical and numeric selectors\n",
        "cat_selector = make_column_selector(dtype_include='object')\n",
        "num_selector = make_column_selector(dtype_include='number')\n",
        "\n",
        "\n",
        "# #select the numeric columns of each type\n",
        "# num_columns = num_selector(X_train)\n",
        "# cat_columns = cat_selector(X_train)\n",
        "# #check our lists\n",
        "# print('numeric columns are', num_columns)\n",
        "# print('categorical columns are', cat_columns)\n",
        "\n",
        "\n",
        "# This is the pipeline for numeric columns\n",
        "num_pipe = make_pipeline(median_imputer, scaler)\n",
        "# Thius is the pipeline for categorical columns\n",
        "cat_pipe = make_pipeline(freq_imputer, ohe_encoder)\n",
        "\n",
        "num_tuple = (num_pipe, num_selector)\n",
        "cat_tuple = (cat_pipe, cat_selector)\n",
        "\n",
        "column_transformer = make_column_transformer(num_tuple, cat_tuple)"
      ],
      "metadata": {
        "id": "lfY_WYgaqH7s"
      },
      "execution_count": 84,
      "outputs": []
    },
    {
      "cell_type": "code",
      "source": [
        "column_transformer.fit(X_train)\n",
        "\n",
        "X_train_processed = column_transformer.transform(X_train)\n",
        "X_test_processed = column_transformer.transform(X_test)"
      ],
      "metadata": {
        "id": "x9dlmZxuqx1m"
      },
      "execution_count": 85,
      "outputs": []
    },
    {
      "cell_type": "code",
      "source": [
        "from sklearn.linear_model import LinearRegression\n",
        "# Make a linear regression instance\n",
        "reg = LinearRegression()\n",
        "reg.fit(X_train_processed, y_train)\n",
        "train_score = reg.score(X_train_processed, y_train)\n",
        "print(train_score)\n",
        "test_score = reg.score(X_test_processed, y_test)\n",
        "print(test_score)"
      ],
      "metadata": {
        "colab": {
          "base_uri": "https://localhost:8080/"
        },
        "id": "4zt2rrZMq1dF",
        "outputId": "3efa761b-b710-4041-8c34-75d5126edde2"
      },
      "execution_count": 86,
      "outputs": [
        {
          "output_type": "stream",
          "name": "stdout",
          "text": [
            "0.5606048520125644\n",
            "0.5656093144919598\n"
          ]
        }
      ]
    }
  ]
}